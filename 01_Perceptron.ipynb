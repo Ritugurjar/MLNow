{
  "nbformat": 4,
  "nbformat_minor": 0,
  "metadata": {
    "colab": {
      "name": "01_Perceptron.ipynb",
      "provenance": [],
      "collapsed_sections": [],
      "authorship_tag": "ABX9TyM8bihrG2kGlFN2SLfm8kMl",
      "include_colab_link": true
    },
    "kernelspec": {
      "name": "python3",
      "display_name": "Python 3"
    },
    "language_info": {
      "name": "python"
    }
  },
  "cells": [
    {
      "cell_type": "markdown",
      "metadata": {
        "id": "view-in-github",
        "colab_type": "text"
      },
      "source": [
        "<a href=\"https://colab.research.google.com/github/Ritugurjar/MLNow/blob/main/01_Perceptron.ipynb\" target=\"_parent\"><img src=\"https://colab.research.google.com/assets/colab-badge.svg\" alt=\"Open In Colab\"/></a>"
      ]
    },
    {
      "cell_type": "markdown",
      "metadata": {
        "id": "pt6GCPhPcmz2"
      },
      "source": [
        "**Date Created:** 23,May,21\n",
        "####Author: [Ritu singh gurjar](https://github.com/Ritugurjar)"
      ]
    },
    {
      "cell_type": "markdown",
      "metadata": {
        "id": "BTCoMQ_AdIkS"
      },
      "source": [
        "#PROBLEM STATEMENT\n",
        "y=10x"
      ]
    },
    {
      "cell_type": "markdown",
      "metadata": {
        "id": "2aScgEvrdn3u"
      },
      "source": [
        "#Data Creation\n",
        "Equation y= 10*x\n",
        "```\n",
        "xTrain = [0, 1, 2, 3, 4, 5...]\n",
        "yTrain = [0, 10, 20, 30, 40, 50...]\n",
        "```"
      ]
    },
    {
      "cell_type": "code",
      "metadata": {
        "colab": {
          "base_uri": "https://localhost:8080/"
        },
        "id": "j8AzOhp7WUZt",
        "outputId": "1cbab7a4-8958-4ec1-9a93-2232e10380bd"
      },
      "source": [
        "x = [i for i in range(21)]\n",
        "print(x)"
      ],
      "execution_count": 3,
      "outputs": [
        {
          "output_type": "stream",
          "text": [
            "[0, 1, 2, 3, 4, 5, 6, 7, 8, 9, 10, 11, 12, 13, 14, 15, 16, 17, 18, 19, 20]\n"
          ],
          "name": "stdout"
        }
      ]
    },
    {
      "cell_type": "code",
      "metadata": {
        "colab": {
          "base_uri": "https://localhost:8080/"
        },
        "id": "SX5Nww7JfB01",
        "outputId": "96d20674-2405-45f8-904d-a2f4651c13df"
      },
      "source": [
        "y = [i for i in range(10*20+1) if i%10==0 ]\n",
        "print(y)"
      ],
      "execution_count": 9,
      "outputs": [
        {
          "output_type": "stream",
          "text": [
            "[0, 10, 20, 30, 40, 50, 60, 70, 80, 90, 100, 110, 120, 130, 140, 150, 160, 170, 180, 190, 200]\n"
          ],
          "name": "stdout"
        }
      ]
    },
    {
      "cell_type": "markdown",
      "metadata": {
        "id": "-H8BTrJlgWj_"
      },
      "source": [
        "#Approach 1\n",
        "Defining a function for the equation y=10x"
      ]
    },
    {
      "cell_type": "code",
      "metadata": {
        "id": "X2_pGa9agiiF"
      },
      "source": [
        "def tempFunc(x):\n",
        "  y = 10*x\n",
        "  return y\n",
        "\n",
        "  for value in x:\n",
        "    print(tempFunc(value))"
      ],
      "execution_count": 13,
      "outputs": []
    },
    {
      "cell_type": "markdown",
      "metadata": {
        "id": "AxoKJnSThbmV"
      },
      "source": [
        "#Approach 2\n",
        "ML Approach\n",
        "\n",
        "we are goin to take xTrain ytrain xTest and yTest from x and y."
      ]
    },
    {
      "cell_type": "code",
      "metadata": {
        "colab": {
          "base_uri": "https://localhost:8080/"
        },
        "id": "Y3l_HWT2h1EJ",
        "outputId": "2891b55b-1615-482e-fc42-ce91d3665dbe"
      },
      "source": [
        "x = [i for i in range(21)]\n",
        "print(f'this is x:{x}')\n",
        "\n",
        "y = [i for i in range(10*20+1) if i%10==0 ]\n",
        "print(f'this is y:{y}')\n"
      ],
      "execution_count": 20,
      "outputs": [
        {
          "output_type": "stream",
          "text": [
            "this is x:[0, 1, 2, 3, 4, 5, 6, 7, 8, 9, 10, 11, 12, 13, 14, 15, 16, 17, 18, 19, 20]\n",
            "this is y:[0, 10, 20, 30, 40, 50, 60, 70, 80, 90, 100, 110, 120, 130, 140, 150, 160, 170, 180, 190, 200]\n"
          ],
          "name": "stdout"
        }
      ]
    },
    {
      "cell_type": "code",
      "metadata": {
        "colab": {
          "base_uri": "https://localhost:8080/"
        },
        "id": "SPTqyCc_j5Gk",
        "outputId": "f20878f8-283d-43b3-a0ec-62ed845c47bd"
      },
      "source": [
        "xTrain = x[:-5] #Training Data\n",
        "yTrain = y[:-5] #Training Labels\n",
        "\n",
        "xTest = x[-5:] #Testing Data\n",
        "yTest = y[-5:] #Testing Labels\n",
        "\n",
        "print(f'''\n",
        "Training Data:\n",
        "\n",
        "xTrain : {xTrain}\n",
        "yTrain : {yTrain}\n",
        "\n",
        "Testing Data:\n",
        "\n",
        "xTest : {xTest}\n",
        "yTest : {yTest}\n",
        "''')\n",
        "\n"
      ],
      "execution_count": 31,
      "outputs": [
        {
          "output_type": "stream",
          "text": [
            "\n",
            "Training Data:\n",
            "\n",
            "xTrain : [0, 1, 2, 3, 4, 5, 6, 7, 8, 9, 10, 11, 12, 13, 14, 15]\n",
            "yTrain : [0, 10, 20, 30, 40, 50, 60, 70, 80, 90, 100, 110, 120, 130, 140, 150]\n",
            "\n",
            "Testing Data:\n",
            "\n",
            "xTest : [16, 17, 18, 19, 20]\n",
            "yTest : [160, 170, 180, 190, 200]\n",
            "\n"
          ],
          "name": "stdout"
        }
      ]
    },
    {
      "cell_type": "code",
      "metadata": {
        "id": "XNsZfS_ZklCZ"
      },
      "source": [
        "import tensorflow as tf\n",
        "from tensorflow import keras\n"
      ],
      "execution_count": 25,
      "outputs": []
    },
    {
      "cell_type": "code",
      "metadata": {
        "id": "kPDSnndukyn5"
      },
      "source": [
        "#creating perceptron\n",
        "\n",
        "model = tf.keras.Sequential([\n",
        "                             tf.keras.layers.Dense(units=1, input_shape=[1])\n",
        "])"
      ],
      "execution_count": 29,
      "outputs": []
    },
    {
      "cell_type": "markdown",
      "metadata": {
        "id": "klr_z7NDpJVg"
      },
      "source": [
        "h(x) =[....]\n",
        "yTrain = []\n",
        "length of yTrain:\n",
        "n = len(yTrain)\n",
        "\n",
        "MAE = ((xTrain_i - h(xTrain_i)))/n"
      ]
    },
    {
      "cell_type": "code",
      "metadata": {
        "id": "9TV3z2BQmZAs"
      },
      "source": [
        "model.compile(optimizer = 'adam', loss ='mae')"
      ],
      "execution_count": 30,
      "outputs": []
    },
    {
      "cell_type": "code",
      "metadata": {
        "colab": {
          "base_uri": "https://localhost:8080/"
        },
        "id": "uS8HGsILnvbd",
        "outputId": "ea183c54-2019-4bf3-d2c4-01d7f5889881"
      },
      "source": [
        "model.fit(x=xTrain, y=yTrain, validation_data=(xTest, yTest), epochs=50)"
      ],
      "execution_count": 32,
      "outputs": [
        {
          "output_type": "stream",
          "text": [
            "Epoch 1/50\n",
            "1/1 [==============================] - 1s 600ms/step - loss: 84.5548 - val_loss: 202.9125\n",
            "Epoch 2/50\n",
            "1/1 [==============================] - 0s 50ms/step - loss: 84.5464 - val_loss: 202.8935\n",
            "Epoch 3/50\n",
            "1/1 [==============================] - 0s 48ms/step - loss: 84.5380 - val_loss: 202.8745\n",
            "Epoch 4/50\n",
            "1/1 [==============================] - 0s 50ms/step - loss: 84.5297 - val_loss: 202.8555\n",
            "Epoch 5/50\n",
            "1/1 [==============================] - 0s 47ms/step - loss: 84.5213 - val_loss: 202.8365\n",
            "Epoch 6/50\n",
            "1/1 [==============================] - 0s 48ms/step - loss: 84.5129 - val_loss: 202.8175\n",
            "Epoch 7/50\n",
            "1/1 [==============================] - 0s 50ms/step - loss: 84.5046 - val_loss: 202.7985\n",
            "Epoch 8/50\n",
            "1/1 [==============================] - 0s 48ms/step - loss: 84.4962 - val_loss: 202.7795\n",
            "Epoch 9/50\n",
            "1/1 [==============================] - 0s 48ms/step - loss: 84.4878 - val_loss: 202.7605\n",
            "Epoch 10/50\n",
            "1/1 [==============================] - 0s 49ms/step - loss: 84.4794 - val_loss: 202.7415\n",
            "Epoch 11/50\n",
            "1/1 [==============================] - 0s 58ms/step - loss: 84.4711 - val_loss: 202.7225\n",
            "Epoch 12/50\n",
            "1/1 [==============================] - 0s 52ms/step - loss: 84.4627 - val_loss: 202.7035\n",
            "Epoch 13/50\n",
            "1/1 [==============================] - 0s 53ms/step - loss: 84.4543 - val_loss: 202.6845\n",
            "Epoch 14/50\n",
            "1/1 [==============================] - 0s 51ms/step - loss: 84.4459 - val_loss: 202.6655\n",
            "Epoch 15/50\n",
            "1/1 [==============================] - 0s 49ms/step - loss: 84.4376 - val_loss: 202.6465\n",
            "Epoch 16/50\n",
            "1/1 [==============================] - 0s 48ms/step - loss: 84.4292 - val_loss: 202.6275\n",
            "Epoch 17/50\n",
            "1/1 [==============================] - 0s 48ms/step - loss: 84.4208 - val_loss: 202.6085\n",
            "Epoch 18/50\n",
            "1/1 [==============================] - 0s 49ms/step - loss: 84.4125 - val_loss: 202.5895\n",
            "Epoch 19/50\n",
            "1/1 [==============================] - 0s 49ms/step - loss: 84.4041 - val_loss: 202.5705\n",
            "Epoch 20/50\n",
            "1/1 [==============================] - 0s 48ms/step - loss: 84.3957 - val_loss: 202.5515\n",
            "Epoch 21/50\n",
            "1/1 [==============================] - 0s 49ms/step - loss: 84.3873 - val_loss: 202.5325\n",
            "Epoch 22/50\n",
            "1/1 [==============================] - 0s 47ms/step - loss: 84.3790 - val_loss: 202.5135\n",
            "Epoch 23/50\n",
            "1/1 [==============================] - 0s 47ms/step - loss: 84.3706 - val_loss: 202.4945\n",
            "Epoch 24/50\n",
            "1/1 [==============================] - 0s 47ms/step - loss: 84.3622 - val_loss: 202.4755\n",
            "Epoch 25/50\n",
            "1/1 [==============================] - 0s 52ms/step - loss: 84.3538 - val_loss: 202.4565\n",
            "Epoch 26/50\n",
            "1/1 [==============================] - 0s 47ms/step - loss: 84.3455 - val_loss: 202.4375\n",
            "Epoch 27/50\n",
            "1/1 [==============================] - 0s 49ms/step - loss: 84.3371 - val_loss: 202.4185\n",
            "Epoch 28/50\n",
            "1/1 [==============================] - 0s 51ms/step - loss: 84.3287 - val_loss: 202.3996\n",
            "Epoch 29/50\n",
            "1/1 [==============================] - 0s 47ms/step - loss: 84.3203 - val_loss: 202.3805\n",
            "Epoch 30/50\n",
            "1/1 [==============================] - 0s 53ms/step - loss: 84.3120 - val_loss: 202.3616\n",
            "Epoch 31/50\n",
            "1/1 [==============================] - 0s 53ms/step - loss: 84.3036 - val_loss: 202.3425\n",
            "Epoch 32/50\n",
            "1/1 [==============================] - 0s 51ms/step - loss: 84.2952 - val_loss: 202.3236\n",
            "Epoch 33/50\n",
            "1/1 [==============================] - 0s 49ms/step - loss: 84.2868 - val_loss: 202.3046\n",
            "Epoch 34/50\n",
            "1/1 [==============================] - 0s 49ms/step - loss: 84.2785 - val_loss: 202.2856\n",
            "Epoch 35/50\n",
            "1/1 [==============================] - 0s 47ms/step - loss: 84.2701 - val_loss: 202.2666\n",
            "Epoch 36/50\n",
            "1/1 [==============================] - 0s 47ms/step - loss: 84.2617 - val_loss: 202.2476\n",
            "Epoch 37/50\n",
            "1/1 [==============================] - 0s 51ms/step - loss: 84.2534 - val_loss: 202.2286\n",
            "Epoch 38/50\n",
            "1/1 [==============================] - 0s 49ms/step - loss: 84.2450 - val_loss: 202.2096\n",
            "Epoch 39/50\n",
            "1/1 [==============================] - 0s 48ms/step - loss: 84.2366 - val_loss: 202.1906\n",
            "Epoch 40/50\n",
            "1/1 [==============================] - 0s 48ms/step - loss: 84.2282 - val_loss: 202.1716\n",
            "Epoch 41/50\n",
            "1/1 [==============================] - 0s 49ms/step - loss: 84.2199 - val_loss: 202.1526\n",
            "Epoch 42/50\n",
            "1/1 [==============================] - 0s 48ms/step - loss: 84.2115 - val_loss: 202.1336\n",
            "Epoch 43/50\n",
            "1/1 [==============================] - 0s 48ms/step - loss: 84.2031 - val_loss: 202.1145\n",
            "Epoch 44/50\n",
            "1/1 [==============================] - 0s 62ms/step - loss: 84.1947 - val_loss: 202.0956\n",
            "Epoch 45/50\n",
            "1/1 [==============================] - 0s 52ms/step - loss: 84.1864 - val_loss: 202.0766\n",
            "Epoch 46/50\n",
            "1/1 [==============================] - 0s 49ms/step - loss: 84.1780 - val_loss: 202.0576\n",
            "Epoch 47/50\n",
            "1/1 [==============================] - 0s 49ms/step - loss: 84.1696 - val_loss: 202.0386\n",
            "Epoch 48/50\n",
            "1/1 [==============================] - 0s 48ms/step - loss: 84.1612 - val_loss: 202.0196\n",
            "Epoch 49/50\n",
            "1/1 [==============================] - 0s 49ms/step - loss: 84.1529 - val_loss: 202.0006\n",
            "Epoch 50/50\n",
            "1/1 [==============================] - 0s 49ms/step - loss: 84.1445 - val_loss: 201.9816\n"
          ],
          "name": "stdout"
        },
        {
          "output_type": "execute_result",
          "data": {
            "text/plain": [
              "<tensorflow.python.keras.callbacks.History at 0x7f4f3d5ebd10>"
            ]
          },
          "metadata": {
            "tags": []
          },
          "execution_count": 32
        }
      ]
    },
    {
      "cell_type": "markdown",
      "metadata": {
        "id": "hcrud82vqXeD"
      },
      "source": [
        "val_loss and loss is analogous to j(x) or cost function."
      ]
    }
  ]
}